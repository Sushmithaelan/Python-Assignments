{
 "cells": [
  {
   "cell_type": "markdown",
   "id": "9973c992",
   "metadata": {},
   "source": [
    "# CLASS:"
   ]
  },
  {
   "cell_type": "markdown",
   "id": "8a4fd1fc",
   "metadata": {},
   "source": [
    "### A Python class is like an outline for creating a new object. "
   ]
  },
  {
   "cell_type": "markdown",
   "id": "5b7c4765",
   "metadata": {},
   "source": [
    "# OBJECT:"
   ]
  },
  {
   "cell_type": "markdown",
   "id": "38e6f724",
   "metadata": {},
   "source": [
    "### An object is anything that you wish to manipulate or change while working through the code."
   ]
  },
  {
   "cell_type": "markdown",
   "id": "3251792f",
   "metadata": {},
   "source": [
    "##### EXAMPLE"
   ]
  },
  {
   "cell_type": "code",
   "execution_count": 12,
   "id": "bb60470f",
   "metadata": {},
   "outputs": [
    {
     "name": "stdout",
     "output_type": "stream",
     "text": [
      "<__main__.Snake object at 0x00000181271D4910>\n"
     ]
    }
   ],
   "source": [
    "class Snake:\n",
    "     pass\n",
    " \n",
    "snake = Snake()\n",
    "print(snake)\n"
   ]
  },
  {
   "cell_type": "markdown",
   "id": "d17ea2b2",
   "metadata": {},
   "source": [
    "## Attributes:"
   ]
  },
  {
   "cell_type": "markdown",
   "id": "7d715122",
   "metadata": {},
   "source": [
    "##### A class by itself is of no use unless there is some functionality associated with it. \n",
    "##### Functionalities are defined by setting attributes, which act as containers for data and functions related to those attributes. Those functions are called methods."
   ]
  },
  {
   "cell_type": "code",
   "execution_count": 37,
   "id": "9814e4e1",
   "metadata": {},
   "outputs": [],
   "source": [
    "class Snake:\n",
    "     name = \"python\" # set an attribute `name` of the class\n",
    "        "
   ]
  },
  {
   "cell_type": "code",
   "execution_count": 4,
   "id": "d3d2f44b",
   "metadata": {},
   "outputs": [
    {
     "name": "stdout",
     "output_type": "stream",
     "text": [
      "python\n"
     ]
    }
   ],
   "source": [
    "# instantiate the class Snake and assign it to variable snake\n",
    "snake = Snake()\n",
    "\n",
    "# access the class attribute name inside the class Snake.\n",
    "print(snake.name)"
   ]
  },
  {
   "cell_type": "markdown",
   "id": "7b339c8c",
   "metadata": {},
   "source": [
    "### Methods"
   ]
  },
  {
   "cell_type": "markdown",
   "id": "8e18a9f2",
   "metadata": {},
   "source": [
    "##### Once there are attributes that “belong” to the class, you can define functions that will access the class attribute. These functions are called methods. \n",
    "##### When you define methods, you will need to always provide the first argument to the method with a self keyword."
   ]
  },
  {
   "cell_type": "code",
   "execution_count": 15,
   "id": "acbf5fc2",
   "metadata": {},
   "outputs": [
    {
     "name": "stdout",
     "output_type": "stream",
     "text": [
      "python\n",
      "anaconda\n"
     ]
    }
   ],
   "source": [
    "class Snake:\n",
    "     name = \"python\"\n",
    "     def change_name(self, new_name): # note that the first argument is self\n",
    "            self.name = new_name # access the class attribute with the self keyword\n",
    "        \n",
    "# instantiate the class\n",
    "snake = Snake()\n",
    "\n",
    "# print the current object name \n",
    "print(snake.name)\n",
    "\n",
    "\n",
    "# change the name using the change_name method\n",
    "snake.change_name(\"anaconda\")\n",
    "print(snake.name)"
   ]
  },
  {
   "cell_type": "code",
   "execution_count": 25,
   "id": "8b0ef942",
   "metadata": {},
   "outputs": [
    {
     "name": "stdout",
     "output_type": "stream",
     "text": [
      "3\n",
      "anaconda\n"
     ]
    }
   ],
   "source": [
    "class Snake:\n",
    "\n",
    "    def __init__(self, name, version):\n",
    "        self.name = name\n",
    "        self.version = version\n",
    "        \n",
    "python = Snake(\"python\", 3)\n",
    "anaconda = Snake(\"anaconda\", 1.1)\n",
    "\n",
    "print(python.version)\n",
    "print(anaconda.name)"
   ]
  },
  {
   "cell_type": "code",
   "execution_count": 42,
   "id": "8f1e4580",
   "metadata": {},
   "outputs": [
    {
     "name": "stdout",
     "output_type": "stream",
     "text": [
      "This is Line1.\n",
      "This is Line2.\n",
      "This is Line3."
     ]
    }
   ],
   "source": [
    "with open(\"Text.txt\",'r') as f1:\n",
    "#f1.readlines()\n",
    "    for line in f1:\n",
    "         print(line, end = '')"
   ]
  },
  {
   "cell_type": "code",
   "execution_count": 9,
   "id": "3fd6121b",
   "metadata": {},
   "outputs": [],
   "source": [
    "f2=open(\"out.txt\",\"w\")\n",
    "f2.write(\"Hi\")\n",
    "f2.close()"
   ]
  },
  {
   "cell_type": "code",
   "execution_count": 26,
   "id": "9b5c4929",
   "metadata": {},
   "outputs": [
    {
     "name": "stdout",
     "output_type": "stream",
     "text": [
      "50\n"
     ]
    }
   ],
   "source": [
    "class Student:\n",
    "    \n",
    "        marks1=50\n",
    "        marks2=60\n",
    "    \n",
    "std1=Student()\n",
    "std2=Student()\n",
    "print(std1.marks1)"
   ]
  },
  {
   "cell_type": "code",
   "execution_count": 25,
   "id": "9ede5c46",
   "metadata": {},
   "outputs": [
    {
     "name": "stdout",
     "output_type": "stream",
     "text": [
      "20\n"
     ]
    }
   ],
   "source": [
    "class Student:\n",
    "    def __init__(self,m1,m2):\n",
    "        self.marks1=m1\n",
    "        self.marks2=m2\n",
    "    \n",
    "std1=Student(20,30)\n",
    "std2=Student(40,50)\n",
    "print(std1.marks1)"
   ]
  },
  {
   "cell_type": "code",
   "execution_count": 31,
   "id": "eedda0ea",
   "metadata": {},
   "outputs": [
    {
     "name": "stdout",
     "output_type": "stream",
     "text": [
      "89\n",
      "4\n"
     ]
    }
   ],
   "source": [
    "class Student:\n",
    "    marks1=89\n",
    "    marks2=90\n",
    "    def std_marks(self,m1,m2):\n",
    "        self.marks1=m1\n",
    "        self.marks2=m2\n",
    "    \n",
    "std1=Student()\n",
    "print(std1.marks1)\n",
    "std1.std_marks(4,5)\n",
    "print(std1.marks1)"
   ]
  },
  {
   "cell_type": "code",
   "execution_count": 36,
   "id": "01376e16",
   "metadata": {},
   "outputs": [
    {
     "name": "stdout",
     "output_type": "stream",
     "text": [
      "Hello, my name is Kowcika\n"
     ]
    }
   ],
   "source": [
    "class Person:  \n",
    "      \n",
    "    # init method or constructor   \n",
    "    def __init__(self, name):  \n",
    "        self.name = name  \n",
    "      \n",
    "    # Sample Method   \n",
    "    def say_hi(self):  \n",
    "        print('Hello, my name is', self.name)  \n",
    "      \n",
    "p = Person('Kowcika')\n",
    "p.say_hi()  "
   ]
  },
  {
   "cell_type": "code",
   "execution_count": 43,
   "id": "656dbfd0",
   "metadata": {},
   "outputs": [
    {
     "name": "stdout",
     "output_type": "stream",
     "text": [
      "<__main__.Student object at 0x00000181273A7CA0>\n"
     ]
    }
   ],
   "source": [
    "class Student:\n",
    "    pass\n",
    "    \n",
    "std1=Student()\n",
    "#std2=Student()\n",
    "print(std1)"
   ]
  },
  {
   "cell_type": "code",
   "execution_count": 45,
   "id": "d217b81c",
   "metadata": {},
   "outputs": [
    {
     "name": "stdout",
     "output_type": "stream",
     "text": [
      "45\n",
      "65\n"
     ]
    }
   ],
   "source": [
    "class Student:\n",
    "    pass\n",
    "    \n",
    "std1=Student()\n",
    "std1.marks1=45\n",
    "std1.marks2=78\n",
    "std2=Student()\n",
    "std2.marks1=65\n",
    "std2.marks2=88\n",
    "print(std1.marks1)\n",
    "print(std2.marks1)\n"
   ]
  },
  {
   "cell_type": "code",
   "execution_count": 47,
   "id": "c9e79209",
   "metadata": {},
   "outputs": [
    {
     "name": "stdout",
     "output_type": "stream",
     "text": [
      "45\n",
      "98\n"
     ]
    }
   ],
   "source": [
    "class Student:\n",
    "    def __init__(self,marks1,marks2):\n",
    "        self.marks1=marks1\n",
    "        self.marks2=marks2\n",
    "        \n",
    "    \n",
    "std1=Student(45,78)\n",
    "std2=Student(98,67)\n",
    "print(std1.marks1)\n",
    "print(std2.marks1)"
   ]
  },
  {
   "cell_type": "code",
   "execution_count": null,
   "id": "7c801e43",
   "metadata": {},
   "outputs": [],
   "source": []
  },
  {
   "cell_type": "code",
   "execution_count": null,
   "id": "be844139",
   "metadata": {},
   "outputs": [],
   "source": []
  },
  {
   "cell_type": "code",
   "execution_count": null,
   "id": "42bd4543",
   "metadata": {},
   "outputs": [],
   "source": []
  }
 ],
 "metadata": {
  "kernelspec": {
   "display_name": "Python 3",
   "language": "python",
   "name": "python3"
  },
  "language_info": {
   "codemirror_mode": {
    "name": "ipython",
    "version": 3
   },
   "file_extension": ".py",
   "mimetype": "text/x-python",
   "name": "python",
   "nbconvert_exporter": "python",
   "pygments_lexer": "ipython3",
   "version": "3.8.8"
  }
 },
 "nbformat": 4,
 "nbformat_minor": 5
}
