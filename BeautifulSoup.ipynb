{
 "cells": [
  {
   "cell_type": "markdown",
   "id": "bda5d512",
   "metadata": {},
   "source": [
    "![](WS.jpg)"
   ]
  },
  {
   "cell_type": "markdown",
   "id": "b4eec855",
   "metadata": {},
   "source": [
    "## The Components of a Web Page"
   ]
  },
  {
   "cell_type": "markdown",
   "id": "b6b748ce",
   "metadata": {},
   "source": [
    "![](BS.jpg)"
   ]
  },
  {
   "cell_type": "code",
   "execution_count": 2,
   "id": "42e313e3",
   "metadata": {},
   "outputs": [],
   "source": [
    "from bs4 import BeautifulSoup"
   ]
  },
  {
   "cell_type": "code",
   "execution_count": 4,
   "id": "2c422db6",
   "metadata": {},
   "outputs": [
    {
     "name": "stdout",
     "output_type": "stream",
     "text": [
      "<html>\n",
      "<head>\n",
      "<title>A simple example page</title>\n",
      "</head>\n",
      "<body>\n",
      "<p>Here is some simple content for this page.</p>\n",
      "<div class=\"city\">\n",
      "<h2>London</h2>\n",
      "<p>London is the capital of England.</p>\n",
      "</div>\n",
      "<div class=\"country\">\n",
      "<h2>UK and England</h2>\n",
      "<p>England is one country, and the United Kingdom is four countries united together.</p>\n",
      "</div>\n",
      "</body>\n",
      "</html>\n",
      "<html>\n",
      " <head>\n",
      "  <title>\n",
      "   A simple example page\n",
      "  </title>\n",
      " </head>\n",
      " <body>\n",
      "  <p>\n",
      "   Here is some simple content for this page.\n",
      "  </p>\n",
      "  <div class=\"city\">\n",
      "   <h2>\n",
      "    London\n",
      "   </h2>\n",
      "   <p>\n",
      "    London is the capital of England.\n",
      "   </p>\n",
      "  </div>\n",
      "  <div class=\"country\">\n",
      "   <h2>\n",
      "    UK and England\n",
      "   </h2>\n",
      "   <p>\n",
      "    England is one country, and the United Kingdom is four countries united together.\n",
      "   </p>\n",
      "  </div>\n",
      " </body>\n",
      "</html>\n"
     ]
    }
   ],
   "source": [
    "str=\"\"\"<html>\n",
    "<head>\n",
    "<title>A simple example page</title>\n",
    "</head>\n",
    "<body>\n",
    "<p>Here is some simple content for this page.</p>\n",
    "<div class=\"city\">\n",
    "<h2>London</h2>\n",
    "<p>London is the capital of England.</p>\n",
    "</div>\n",
    "<div class=\"country\">\n",
    "<h2>UK and England</h2>\n",
    "<p>England is one country, and the United Kingdom is four countries united together.</p>\n",
    "</div>\n",
    "</body>\n",
    "</html>\"\"\"\n",
    "soup=BeautifulSoup(str,\"html.parser\")\n",
    "print(soup)\n",
    "print(soup.prettify())"
   ]
  },
  {
   "cell_type": "code",
   "execution_count": 7,
   "id": "509d8f7b",
   "metadata": {},
   "outputs": [
    {
     "data": {
      "text/plain": [
       "'\\nHere is some simple content for this page.\\n\\nLondon\\nLondon is the capital of England.\\n\\n\\nUK and England\\nEngland is one country, and the United Kingdom is four countries united together.\\n\\n'"
      ]
     },
     "execution_count": 7,
     "metadata": {},
     "output_type": "execute_result"
    }
   ],
   "source": [
    "soup.body.text"
   ]
  },
  {
   "cell_type": "code",
   "execution_count": 8,
   "id": "a3d363c4",
   "metadata": {},
   "outputs": [
    {
     "data": {
      "text/plain": [
       "'London'"
      ]
     },
     "execution_count": 8,
     "metadata": {},
     "output_type": "execute_result"
    }
   ],
   "source": [
    "soup.h2.text"
   ]
  },
  {
   "cell_type": "code",
   "execution_count": 9,
   "id": "aca0551f",
   "metadata": {},
   "outputs": [
    {
     "data": {
      "text/plain": [
       "'UK and England'"
      ]
     },
     "execution_count": 9,
     "metadata": {},
     "output_type": "execute_result"
    }
   ],
   "source": [
    "soup.find(\"div\",class_=\"country\").h2.text"
   ]
  },
  {
   "cell_type": "code",
   "execution_count": 10,
   "id": "f9302030",
   "metadata": {},
   "outputs": [
    {
     "data": {
      "text/plain": [
       "'England is one country, and the United Kingdom is four countries united together.'"
      ]
     },
     "execution_count": 10,
     "metadata": {},
     "output_type": "execute_result"
    }
   ],
   "source": [
    "soup.find(\"div\",class_=\"country\").p.text"
   ]
  },
  {
   "cell_type": "code",
   "execution_count": 11,
   "id": "71439f56",
   "metadata": {},
   "outputs": [
    {
     "name": "stdout",
     "output_type": "stream",
     "text": [
      "<html>\n",
      "<head>\n",
      "<title>A simple example page</title>\n",
      "</head>\n",
      "<body>\n",
      "<p>Here is some simple content for this page.</p>\n",
      "</body>\n",
      "</html>\n"
     ]
    }
   ],
   "source": [
    "with open(\"Test1.html\",\"r\") as html_doc:\n",
    "    soup=BeautifulSoup(html_doc,\"html.parser\") \n",
    "#print(soup.prettify())\n",
    "print(soup)"
   ]
  },
  {
   "cell_type": "code",
   "execution_count": 16,
   "id": "c1489567",
   "metadata": {},
   "outputs": [
    {
     "data": {
      "text/plain": [
       "'Here is some simple content for this page.'"
      ]
     },
     "execution_count": 16,
     "metadata": {},
     "output_type": "execute_result"
    }
   ],
   "source": [
    "soup.head\n",
    "soup.title\n",
    "soup.body\n",
    "soup.body.p.text"
   ]
  },
  {
   "cell_type": "code",
   "execution_count": null,
   "id": "d436fcb7",
   "metadata": {},
   "outputs": [],
   "source": [
    "soup.p"
   ]
  },
  {
   "cell_type": "code",
   "execution_count": null,
   "id": "80b5dd7a",
   "metadata": {},
   "outputs": [],
   "source": [
    "soup.p.text"
   ]
  },
  {
   "cell_type": "code",
   "execution_count": 4,
   "id": "eb3942a2",
   "metadata": {},
   "outputs": [],
   "source": [
    "import requests\n",
    "url = 'https://ravindrababuravula.com/courses.php'\n",
    "reqs = requests.get(url)\n",
    "soup = BeautifulSoup(reqs.text, 'lxml')"
   ]
  },
  {
   "cell_type": "code",
   "execution_count": 5,
   "id": "02a342e7",
   "metadata": {},
   "outputs": [
    {
     "data": {
      "text/plain": [
       "<body><!-- HEADER-->\n",
       "<header>\n",
       "<div class=\"header-topbar\">\n",
       "<div class=\"container\">\n",
       "<div class=\"topbar-left pull-right\">\n",
       "<div class=\"email\">\n",
       "<i class=\"topbar-icon fa fa-envelope-o\"></i>\n",
       "<span>gate2014.ravindra@gmail.com</span>\n",
       "</div>\n",
       "<div class=\"email\">\n",
       "<!--<i class=\"topbar-icon fa fa-phone-square\"></i>-->\n",
       "<!--<span>+91-8088669990</a></span>-->\n",
       "</div>\n",
       "</div>\n",
       "<div class=\"topbar-right pull-right\">\n",
       "<div class=\"socials\">\n",
       "<a class=\"facebook\" href=\"https://www.facebook.com/ravindra.ravula\" target=\"_blank\"><i class=\"fa fa-facebook\"></i></a>\n",
       "<!--<a href=\"https://plus.google.com/100601401117543080491\" target=\"_blank\" class=\"google\"><i class=\"fa fa-google-plus\"></i></a>-->\n",
       "<a class=\"google\" href=\"https://www.youtube.com/channel/UCJjC1hn78yZqTf0vdTC6wAQ\" target=\"_blank\"><i class=\"fa fa-youtube-play\"></i></a></div>\n",
       "</div>\n",
       "</div>\n",
       "</div>\n",
       "<div class=\"header-main_1 homepage-01\">\n",
       "<div class=\"phone-note hidden-xs\">\n",
       "<!--            <marquee behavior=\"scroll\" direction=\"\" onmouseover=\"this.stop();\" onmouseout=\"this.start();\"> <strong>Important Note:</strong> IIIT-HYD PG Application Portal Open for Monsoon Admissions 2019 <a href=\"https://www.iiit.ac.in/admissions/postgraduate/\" target=\"_blank\" style=\"-->\n",
       "<!--    color: white;-->\n",
       "<!--    text-decoration: none;-->\n",
       "<!--\">Click Here</a>  </marquee>-->\n",
       "</div>\n",
       "<div class=\"container\">\n",
       "<div class=\"header-main-wrapper\">\n",
       "<div class=\"navbar-heade\">\n",
       "<div class=\"logo logo-xs pull-left\" style=\"\n",
       "    height: 50px;\n",
       "    width: 200px;\n",
       "\"><a class=\"header-logo\" href=\"index.php\"><img alt=\"\" class=\"img-responsive\" src=\"assets/images/logo-new.jpg\"/></a>\n",
       "</div>\n",
       "<button class=\"navbar-toggle edugate-navbar\" data-target=\".navigation\" data-toggle=\"collapse\" type=\"button\"><span class=\"icon-bar\"></span><span class=\"icon-bar\"></span><span class=\"icon-bar\"></span></button>\n",
       "</div>\n",
       "<nav class=\"navigation collapse navbar-collapse pull-right\">\n",
       "<ul class=\"nav-links nav navbar-nav\">\n",
       "<li><a class=\"main-menu\" href=\"index.php\">Home</a></li>\n",
       "<li class=\"dropdown hidden-lg hidden-md\"><a class=\"main-menu\" href=\"courses.php\">Courses</a>\n",
       "</li><li class=\"dropdown hidden-sm hidden-xs\"><a class=\"main-menu\" href=\"#\">Courses</a>\n",
       "<ul class=\"dropdown-menu edugate-dropdown-menu-1 hidden-sm hidden-xs\">\n",
       "<!--<li><a href=\"gate-2021.php\" class=\"link-page\">GATE-2021</a></li>-->\n",
       "<li><a class=\"link-page\" href=\"gate-2022.php\">GATE-2022</a></li>\n",
       "<li><a class=\"link-page\" href=\"gate-2023.php\">GATE-2023</a></li>\n",
       "<!--<li><a href=\"tsrbr.php\" class=\"link-page\">Test Series by RBR</a></li>-->\n",
       "<!--<li><a href=\"test-series.php\" class=\"link-page\">Test Series</a></li>-->\n",
       "<!--  <li><a href=\"java.php\" class=\"link-page\">Java</a></li>\n",
       "                                 <li><a href=\"cprogramming.php\" class=\"link-page\">C-Programming</a></li>\n",
       "                                 <li><a href=\"interviewpreperation.php\" class=\"link-page\">Job Interview Preparation</a></li> -->\n",
       "<!--<li><a href=\"https://mlminds.com/data-science/\" target=\"_blank\" class=\"link-page\">Data Science</a></li>-->\n",
       "<!--<li><a href=\"https://mlminds.com/machine-learning/\" target=\"_blank\" class=\"link-page\">Machine Learning</a></li>-->\n",
       "<!--<li><a href=\"https://mlminds.com/python-for-data-science/\" target=\"_blank\" class=\"link-page\">Python for Data Science</a></li>-->\n",
       "</ul>\n",
       "</li>\n",
       "<li><a class=\"main-menu\" href=\"testimonial.php\">Testimonials</a></li>\n",
       "<!--<li ><a href=\"https://pyq.ravindrababuravula.com/\" class=\"main-menu\">GATE PYQ</a></li>-->\n",
       "<!--<li ><a href=\"register.php\" class=\"main-menu\">Register</a></li>-->\n",
       "<!-- <li class=\"dropdown hidden-sm hidden-xs\" ><a href=\"#\" class=\"main-menu\">Guidance</a>\n",
       "                            <ul class=\"dropdown-menu edugate-dropdown-menu-1 hidden-sm hidden-xs\">\n",
       "                                <li><a href=\"feedback.php\" class=\"link-page\">Career</a></li>\n",
       "                                <li><a href=\"https://docs.google.com/forms/d/e/1FAIpQLSdX8iIDG-Go3xx_F4L4iYlakEmTfJEn2xgtwnNy7ZzIhW74-Q/viewform\" target=\"_blank\" class=\"link-page\">Schedule</a></li>\n",
       "                        \n",
       "                        \n",
       "                        \n",
       "                            </ul>\n",
       "                        </li> -->\n",
       "<li class=\"hidden-sm hidden-xs\"><a class=\"main-menu\" href=\"faq.php\">FAQ</a></li>\n",
       "<li><a class=\"main-menu\" href=\"about.php\">About</a></li>\n",
       "<!-- <li ><a href=\"focus.php\" class=\"main-menu\">Focus Program</a></li> -->\n",
       "<li><a class=\"main-menu\" href=\"contact.php\">Contact us</a></li>\n",
       "</ul>\n",
       "</nav>\n",
       "</div>\n",
       "</div>\n",
       "</div>\n",
       "</header>\n",
       "<div id=\"wrapper-content\"><!-- PAGE WRAPPER-->\n",
       "<div id=\"page-wrapper\"><!-- MAIN CONTENT-->\n",
       "<div class=\"main-content\"><!-- CONTENT-->\n",
       "<div class=\"content\">\n",
       "<div class=\"section section-padding courses\">\n",
       "<div class=\"container\">\n",
       "<div class=\"group-title-index\"><h2 class=\"center-title\"> Courses</h2><!--.bottom-title<i class=\"bottom-icon icon-a-1-01\"></i>--></div>\n",
       "<div class=\"courses-wrapper\"><!-- Nav tabs-->\n",
       "<!-- Tab panes-->\n",
       "<div class=\"tab-content courses-content\">\n",
       "<div class=\"tab-pane fade in active\" id=\"campus\" role=\"tabpanel\">\n",
       "<div class=\"style-show style-grid row\">\n",
       "<div class=\"col-style\">\n",
       "<div class=\"edugate-layout-2\">\n",
       "<div class=\"edugate-layout-2-wrapper\">\n",
       "<div class=\"edugate-content\"><a class=\"title\" href=\"gate.php\">GATE</a>\n",
       "<div class=\"description\">Every subject is taught from scratch and contains concepts, solved examples, important previous year GATE questions, practice questions and the test series</div>\n",
       "<button class=\"btn btn-green hidden-sm hidden-xs\"><a href=\"gate.php\"><span>learn now</span></a></button>\n",
       "</div>\n",
       "<div class=\"edugate-image\"><img alt=\"\" class=\"img-responsive\" src=\"assets/images/courses/courses-4.jpg\"/></div>\n",
       "<button class=\"btn btn-green small-screen-bt hidden-lg hidden-md\"><span><a href=\"gate.php\" style=\"color: white;\">learn now</a></span></button>\n",
       "</div>\n",
       "</div>\n",
       "</div>\n",
       "<div class=\"col-style\">\n",
       "<div class=\"edugate-layout-2\">\n",
       "<div class=\"edugate-layout-2-wrapper\">\n",
       "<div class=\"edugate-content\"><a class=\"title\" href=\"interviewpreperation.php\">Job Interview Preparation </a>\n",
       "<div class=\"description\">It is a mix of theory and practice. we will explain all the possible ways to solve a problem and analyse each solution using Time &amp; Space Complexity.</div>\n",
       "<button class=\"btn btn-green hidden-sm hidden-xs\"><span><a href=\"interviewpreperation.php\" style=\"color: white;\">learn now</a></span></button>\n",
       "</div>\n",
       "<div class=\"edugate-image\"><img alt=\"\" class=\"img-responsive\" src=\"assets/images/courses/courses-3.jpg\"/></div>\n",
       "<button class=\"btn btn-green small-screen-bt hidden-lg hidden-md\"><span><a href=\"interviewpreperation.php\" style=\"color: white;\">learn now</a></span></button>\n",
       "</div>\n",
       "</div>\n",
       "</div>\n",
       "<div class=\"col-style\">\n",
       "<div class=\"edugate-layout-2\">\n",
       "<div class=\"edugate-layout-2-wrapper\">\n",
       "<div class=\"edugate-content\"><a class=\"title\" href=\"technologies.php\">Technologies</a>\n",
       "<div class=\"description\">We chose the Trending Technologies which are high in demand in the job market. Hybrid teaching style with the help of conventional white board and the digital screen for easy understanding.</div>\n",
       "<button class=\"btn btn-green hidden-sm hidden-xs\"><span><a href=\"technologies.php\" style=\"color: white;\">learn now</a></span></button>\n",
       "</div>\n",
       "<div class=\"edugate-image\"><img alt=\"\" class=\"img-responsive\" src=\"assets/images/courses/courses-2.jpg\"/></div>\n",
       "<button class=\"btn btn-green small-screen-bt hidden-lg hidden-md\"><span><a href=\"technologies.php\" style=\"color: white;\">learn now</a></span></button>\n",
       "</div>\n",
       "</div>\n",
       "</div>\n",
       "<!-- <div class=\"col-style \">\n",
       "                                            <div class=\"edugate-layout-2\">\n",
       "                                                <div class=\"edugate-layout-2-wrapper\">\n",
       "                                                    <div class=\"edugate-content\"><a href=\"btech-projects.php\" class=\"title\">B.Tech Projects</a>\n",
       "\n",
       "\n",
       "\n",
       "\n",
       "                                                        <div class=\"description\">Developed on the Cutting-edge technologies which have real time applications that make the project outstanding.The project has been broken down into several smaller assignments and each assignment is provided with the solution and explanation.</div>\n",
       "                                                        <button class=\"btn btn-green hidden-sm hidden-xs\"><span><a href=\"btech-projects.php\" style=\"color: white;\">learn now</a></span></button>\n",
       "                                                    </div>\n",
       "                                                    <div class=\"edugate-image\"><img src=\"assets/images/courses/courses-1.jpg\" alt=\"\" class=\"img-responsive\"/></div>\n",
       "                                                    <button class=\"btn btn-green small-screen-bt hidden-lg hidden-md\"><span><a href=\"btech-projects.php\" style=\"color: white;\">learn now</a></span></button>\n",
       "                                                </div>\n",
       "                                            </div>\n",
       "                                        </div> -->\n",
       "</div>\n",
       "</div>\n",
       "</div>\n",
       "</div>\n",
       "</div>\n",
       "</div>\n",
       "</div>\n",
       "</div>\n",
       "</div>\n",
       "</div>\n",
       "<!--<footer>-->\n",
       "<div class=\"footer-top\">\n",
       "<div class=\"container\">\n",
       "</div>\n",
       "</div>\n",
       "<div class=\"footer-main\">\n",
       "<div class=\"container\">\n",
       "</div>\n",
       "<footer>\n",
       "<div class=\"footerbottom\">\n",
       "<nav>\n",
       "<a href=\"about.php\" style=\"color: white; margin: 0 1em\">About</a>\n",
       "<a href=\"faq.php\" style=\"color: white; margin: 0 1em\">FAQ</a>\n",
       "<a href=\"register.php\" style=\"color: white; margin: 0 1em\">Register</a>\n",
       "<a href=\"privacy-policy.php\" style=\"color: white; margin: 0 1em\">Privacy Policy</a>\n",
       "</nav>\n",
       "</div>\n",
       "<p> <!-- <i class=\"fa fa-phone-square\"></i> 1800 2744 514  &nbsp;&nbsp;  --><i class=\"fa fa-envelope-o\"></i> gate2014.ravindra@gmail.com</p>\n",
       "<p>Raudra Eduservices Pvt. Ltd. © 2019</p>\n",
       "</footer>\n",
       "<script>if ((Cookies.get('color-skin') != undefined) && (Cookies.get('color-skin') != 'color-1')) {\n",
       "        $('.logo .header-logo img').attr('src', 'assets/images/logo-' + Cookies.get('color-skin') + '.png');\n",
       "    } else if ((Cookies.get('color-skin') == undefined) || (Cookies.get('color-skin') == 'color-1')) {\n",
       "        $('.logo .header-logo img').attr('src', 'assets/images/logo-color-1.png');\n",
       "    }\n",
       "</script>\n",
       "<script src=\"assets/libs/bootstrap-3.3.5/js/bootstrap.min.js\"></script>\n",
       "<script src=\"assets/libs/smooth-scroll/jquery-smoothscroll.js\"></script>\n",
       "<script src=\"assets/libs/owl-carousel-2.0/owl.carousel.min.js\"></script>\n",
       "<script src=\"assets/libs/appear/jquery.appear.js\"></script>\n",
       "<script src=\"assets/libs/count-to/jquery.countTo.js\"></script>\n",
       "<script src=\"assets/libs/wow-js/wow.min.js\"></script>\n",
       "<script src=\"assets/libs/selectbox/js/jquery.selectbox-0.2.min.js\"></script>\n",
       "<script src=\"assets/libs/fancybox/js/jquery.fancybox.js\"></script>\n",
       "<script src=\"assets/libs/fancybox/js/jquery.fancybox-buttons.js\"></script>\n",
       "<script src=\"assets/js/index.js\"></script>\n",
       "<script src=\"popup/jquery.firstVisitPopup.js\"></script>\n",
       "<!-- MAIN JS-->\n",
       "<script src=\"assets/js/main.js\"></script>\n",
       "<!-- LOADING SCRIPTS FOR PAGE-->\n",
       "<script src=\"assets/js/pages/faq.js\"></script>\n",
       "</div></body>"
      ]
     },
     "execution_count": 5,
     "metadata": {},
     "output_type": "execute_result"
    }
   ],
   "source": [
    "soup.body"
   ]
  },
  {
   "cell_type": "code",
   "execution_count": 6,
   "id": "b266f48c",
   "metadata": {},
   "outputs": [
    {
     "data": {
      "text/plain": [
       "'\\n\\n\\n\\n\\n\\n\\ngate2014.ravindra@gmail.com\\n\\n\\n\\n\\n\\n\\n\\n\\n\\n\\n\\n\\n\\n\\n\\n\\n\\n\\n\\n\\n\\n\\n\\n\\n\\n\\n\\n\\n\\n\\nHome\\nCourses\\nCourses\\n\\n\\nGATE-2022\\nGATE-2023\\n\\n\\n\\n\\n\\n\\n\\n\\nTestimonials\\n\\n\\n\\nFAQ\\nAbout\\n\\nContact us\\n\\n\\n\\n\\n\\n\\n\\n\\n\\n\\n\\n\\n Courses\\n\\n\\n\\n\\n\\n\\n\\n\\nGATE\\nEvery subject is taught from scratch and contains concepts, solved examples, important previous year GATE questions, practice questions and the test series\\nlearn now\\n\\n\\nlearn now\\n\\n\\n\\n\\n\\n\\nJob Interview Preparation \\nIt is a mix of theory and practice. we will explain all the possible ways to solve a problem and analyse each solution using Time & Space Complexity.\\nlearn now\\n\\n\\nlearn now\\n\\n\\n\\n\\n\\n\\nTechnologies\\nWe chose the Trending Technologies which are high in demand in the job market. Hybrid teaching style with the help of conventional white board and the digital screen for easy understanding.\\nlearn now\\n\\n\\nlearn now\\n\\n\\n\\n\\n\\n\\n\\n\\n\\n\\n\\n\\n\\n\\n\\n\\n\\n\\n\\n\\n\\n\\n\\n\\n\\nAbout\\nFAQ\\nRegister\\nPrivacy Policy\\n\\n\\n  gate2014.ravindra@gmail.com\\nRaudra Eduservices Pvt. Ltd. © 2019\\n\\n\\n\\n\\n\\n\\n\\n\\n\\n\\n\\n\\n\\n\\n\\n\\n\\n'"
      ]
     },
     "execution_count": 6,
     "metadata": {},
     "output_type": "execute_result"
    }
   ],
   "source": [
    "soup.body.text"
   ]
  },
  {
   "cell_type": "code",
   "execution_count": 29,
   "id": "358172a2",
   "metadata": {},
   "outputs": [
    {
     "data": {
      "text/plain": [
       "'GATE'"
      ]
     },
     "execution_count": 29,
     "metadata": {},
     "output_type": "execute_result"
    }
   ],
   "source": [
    "soup.find(\"div\",class_=\"edugate-content\").a.text"
   ]
  },
  {
   "cell_type": "code",
   "execution_count": 32,
   "id": "05e9e549",
   "metadata": {},
   "outputs": [
    {
     "data": {
      "text/plain": [
       "[<div class=\"edugate-content\"><a class=\"title\" href=\"gate.php\">GATE</a>\n",
       " <div class=\"description\">Every subject is taught from scratch and contains concepts, solved examples, important previous year GATE questions, practice questions and the test series</div>\n",
       " <button class=\"btn btn-green hidden-sm hidden-xs\"><a href=\"gate.php\"><span>learn now</span></a></button>\n",
       " </div>,\n",
       " <div class=\"edugate-content\"><a class=\"title\" href=\"interviewpreperation.php\">Job Interview Preparation </a>\n",
       " <div class=\"description\">It is a mix of theory and practice. we will explain all the possible ways to solve a problem and analyse each solution using Time &amp; Space Complexity.</div>\n",
       " <button class=\"btn btn-green hidden-sm hidden-xs\"><span><a href=\"interviewpreperation.php\" style=\"color: white;\">learn now</a></span></button>\n",
       " </div>,\n",
       " <div class=\"edugate-content\"><a class=\"title\" href=\"technologies.php\">Technologies</a>\n",
       " <div class=\"description\">We chose the Trending Technologies which are high in demand in the job market. Hybrid teaching style with the help of conventional white board and the digital screen for easy understanding.</div>\n",
       " <button class=\"btn btn-green hidden-sm hidden-xs\"><span><a href=\"technologies.php\" style=\"color: white;\">learn now</a></span></button>\n",
       " </div>]"
      ]
     },
     "execution_count": 32,
     "metadata": {},
     "output_type": "execute_result"
    }
   ],
   "source": [
    "a=[]\n",
    "a=soup.find_all(\"div\",class_=\"edugate-content\")\n",
    "a"
   ]
  },
  {
   "cell_type": "code",
   "execution_count": 21,
   "id": "5fe747bc",
   "metadata": {},
   "outputs": [
    {
     "name": "stdout",
     "output_type": "stream",
     "text": [
      "GATE\n",
      "Job Interview Preparation \n",
      "Technologies\n"
     ]
    },
    {
     "data": {
      "text/plain": [
       "['GATE', 'Job Interview Preparation ', 'Technologies']"
      ]
     },
     "execution_count": 21,
     "metadata": {},
     "output_type": "execute_result"
    }
   ],
   "source": [
    "h=[]\n",
    "for trip in soup.find_all(\"div\", class_=\"edugate-content\"):\n",
    "    print(trip.a.text)\n",
    "    h.append(trip.a.text)\n",
    "h"
   ]
  },
  {
   "cell_type": "code",
   "execution_count": 20,
   "id": "3a5ee3c2",
   "metadata": {},
   "outputs": [
    {
     "name": "stdout",
     "output_type": "stream",
     "text": [
      "Every subject is taught from scratch and contains concepts, solved examples, important previous year GATE questions, practice questions and the test series \n",
      "\n",
      "It is a mix of theory and practice. we will explain all the possible ways to solve a problem and analyse each solution using Time & Space Complexity. \n",
      "\n",
      "We chose the Trending Technologies which are high in demand in the job market. Hybrid teaching style with the help of conventional white board and the digital screen for easy understanding. \n",
      "\n"
     ]
    },
    {
     "data": {
      "text/plain": [
       "['Every subject is taught from scratch and contains concepts, solved examples, important previous year GATE questions, practice questions and the test series',\n",
       " 'It is a mix of theory and practice. we will explain all the possible ways to solve a problem and analyse each solution using Time & Space Complexity.',\n",
       " 'We chose the Trending Technologies which are high in demand in the job market. Hybrid teaching style with the help of conventional white board and the digital screen for easy understanding.']"
      ]
     },
     "execution_count": 20,
     "metadata": {},
     "output_type": "execute_result"
    }
   ],
   "source": [
    "des=[]\n",
    "for trip in soup.find_all(\"div\", class_=\"description\"):\n",
    "    print(trip.text,\"\\n\")\n",
    "    des.append(trip.text)\n",
    "des"
   ]
  },
  {
   "cell_type": "code",
   "execution_count": 24,
   "id": "4846db0a",
   "metadata": {},
   "outputs": [
    {
     "data": {
      "text/html": [
       "<div>\n",
       "<style scoped>\n",
       "    .dataframe tbody tr th:only-of-type {\n",
       "        vertical-align: middle;\n",
       "    }\n",
       "\n",
       "    .dataframe tbody tr th {\n",
       "        vertical-align: top;\n",
       "    }\n",
       "\n",
       "    .dataframe thead th {\n",
       "        text-align: right;\n",
       "    }\n",
       "</style>\n",
       "<table border=\"1\" class=\"dataframe\">\n",
       "  <thead>\n",
       "    <tr style=\"text-align: right;\">\n",
       "      <th></th>\n",
       "      <th>0</th>\n",
       "      <th>1</th>\n",
       "    </tr>\n",
       "  </thead>\n",
       "  <tbody>\n",
       "    <tr>\n",
       "      <th>0</th>\n",
       "      <td>GATE</td>\n",
       "      <td>Every subject is taught from scratch and conta...</td>\n",
       "    </tr>\n",
       "    <tr>\n",
       "      <th>1</th>\n",
       "      <td>Job Interview Preparation</td>\n",
       "      <td>It is a mix of theory and practice. we will ex...</td>\n",
       "    </tr>\n",
       "    <tr>\n",
       "      <th>2</th>\n",
       "      <td>Technologies</td>\n",
       "      <td>We chose the Trending Technologies which are h...</td>\n",
       "    </tr>\n",
       "  </tbody>\n",
       "</table>\n",
       "</div>"
      ],
      "text/plain": [
       "                            0  \\\n",
       "0                        GATE   \n",
       "1  Job Interview Preparation    \n",
       "2                Technologies   \n",
       "\n",
       "                                                   1  \n",
       "0  Every subject is taught from scratch and conta...  \n",
       "1  It is a mix of theory and practice. we will ex...  \n",
       "2  We chose the Trending Technologies which are h...  "
      ]
     },
     "execution_count": 24,
     "metadata": {},
     "output_type": "execute_result"
    }
   ],
   "source": [
    "import pandas as pd\n",
    "df=pd.DataFrame(list(zip(h,des)))\n",
    "df"
   ]
  },
  {
   "cell_type": "code",
   "execution_count": null,
   "id": "78652129",
   "metadata": {},
   "outputs": [],
   "source": []
  }
 ],
 "metadata": {
  "kernelspec": {
   "display_name": "Python 3",
   "language": "python",
   "name": "python3"
  },
  "language_info": {
   "codemirror_mode": {
    "name": "ipython",
    "version": 3
   },
   "file_extension": ".py",
   "mimetype": "text/x-python",
   "name": "python",
   "nbconvert_exporter": "python",
   "pygments_lexer": "ipython3",
   "version": "3.8.8"
  }
 },
 "nbformat": 4,
 "nbformat_minor": 5
}
